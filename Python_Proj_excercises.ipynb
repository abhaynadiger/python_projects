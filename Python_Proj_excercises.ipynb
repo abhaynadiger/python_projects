{
 "cells": [
  {
   "cell_type": "code",
   "execution_count": 5,
   "id": "c067d148",
   "metadata": {},
   "outputs": [
    {
     "name": "stdout",
     "output_type": "stream",
     "text": [
      "enter your emailid:asn.cas.@gmail.com\n",
      "wrong email\n"
     ]
    }
   ],
   "source": [
    "# Check if the email is correct email address\n",
    "import re\n",
    "#below iwill check the starting char is a-z \n",
    "# + -->is concat\n",
    "# [\\._]? --> will search dot and underscore count only is 1 time \n",
    "# [@]\\w --> Will search the @ count\n",
    "# [.]\\w{2,3}$\" --> Will search for dot in reverse search for 2nd and 3rd chars\n",
    "email_condition=\"^[a-z]+[\\._]?[a-z 0-9]+[@]\\w+[.]\\w{2,3}$\"\n",
    "user_email=input(\"enter your emailid:\")\n",
    "if re.search(email_condition,user_email):\n",
    "    print (\"correct email\")\n",
    "else:\n",
    "    print(\"wrong email\")\n",
    "    "
   ]
  },
  {
   "cell_type": "code",
   "execution_count": 11,
   "id": "4cea0aef",
   "metadata": {},
   "outputs": [
    {
     "name": "stdout",
     "output_type": "stream",
     "text": [
      "Collecting qrcode\n",
      "  Downloading qrcode-7.4.2-py3-none-any.whl (46 kB)\n",
      "Requirement already satisfied: colorama in c:\\users\\mailm\\anaconda3\\lib\\site-packages (from qrcode) (0.4.4)\n",
      "Requirement already satisfied: typing-extensions in c:\\users\\mailm\\anaconda3\\lib\\site-packages (from qrcode) (3.10.0.2)\n",
      "Collecting pypng\n",
      "  Downloading pypng-0.20220715.0-py3-none-any.whl (58 kB)\n",
      "Installing collected packages: pypng, qrcode\n",
      "Successfully installed pypng-0.20220715.0 qrcode-7.4.2\n",
      "Note: you may need to restart the kernel to use updated packages.\n"
     ]
    }
   ],
   "source": [
    "pip install qrcode\n"
   ]
  },
  {
   "cell_type": "code",
   "execution_count": 6,
   "id": "ef133f7a",
   "metadata": {},
   "outputs": [],
   "source": [
    "# QR code Generator\n",
    "# Qr code can be generated for any text, URL, Payment link etc\n",
    "# The qr code will be saved in the given image format (below as myqr_test.png)\n",
    "\n",
    "import qrcode as qr\n",
    "img=qr.make(\"Hello this is test.. \")\n",
    "img.save(\"myqr_test.png\")"
   ]
  },
  {
   "cell_type": "code",
   "execution_count": 18,
   "id": "e33eb646",
   "metadata": {},
   "outputs": [],
   "source": [
    "# QR code Generator\n",
    "# Qr code can be generated for any text, URL, Payment link etc\n",
    "# The qr code will be saved in the given image format (below as myqr_test.png)\n",
    "# madking colour and bordor for the qr code\n",
    "\n",
    "import qrcode as qr\n",
    "from PIL import Image\n",
    "qr=qrcode.QRCode(version=1,\n",
    "                 error_correction=qrcode.constants.ERROR_CORRECT_H,\n",
    "                  box_size=20, border=4)\n",
    "qr.add_data(\"hello this is test\") #or give any link url details for qr code generation\n",
    "qr.make(fit=True)\n",
    "img=qr.make_image(fill_color=\"red\",back_color=\"blue\")\n",
    "img.save(\"myqr_test1.png\")"
   ]
  },
  {
   "cell_type": "code",
   "execution_count": 2,
   "id": "7cc3ed7e",
   "metadata": {},
   "outputs": [
    {
     "name": "stdout",
     "output_type": "stream",
     "text": [
      "Collecting pytk\n",
      "  Downloading pytk-0.0.2.1-py2.py3-none-any.whl (20 kB)\n",
      "Collecting flyingcircus\n",
      "  Downloading flyingcircus-0.1.4.1-py2.py3-none-any.whl (130 kB)\n",
      "Collecting blessed\n",
      "  Downloading blessed-1.20.0-py2.py3-none-any.whl (58 kB)\n",
      "Requirement already satisfied: setuptools in c:\\users\\mailm\\anaconda3\\lib\\site-packages (from flyingcircus->pytk) (58.0.4)\n",
      "Collecting setuptools-scm\n",
      "  Downloading setuptools_scm-8.0.4-py3-none-any.whl (42 kB)\n",
      "Requirement already satisfied: appdirs in c:\\users\\mailm\\anaconda3\\lib\\site-packages (from flyingcircus->pytk) (1.4.4)\n",
      "Requirement already satisfied: wcwidth>=0.1.4 in c:\\users\\mailm\\anaconda3\\lib\\site-packages (from blessed->flyingcircus->pytk) (0.2.5)\n",
      "Requirement already satisfied: six>=1.9.0 in c:\\users\\mailm\\anaconda3\\lib\\site-packages (from blessed->flyingcircus->pytk) (1.16.0)\n",
      "Collecting jinxed>=1.1.0\n",
      "  Downloading jinxed-1.2.1-py2.py3-none-any.whl (33 kB)\n",
      "Collecting ansicon\n",
      "  Downloading ansicon-1.89.0-py2.py3-none-any.whl (63 kB)\n",
      "Requirement already satisfied: packaging>=20 in c:\\users\\mailm\\anaconda3\\lib\\site-packages (from setuptools-scm->flyingcircus->pytk) (21.0)\n",
      "Requirement already satisfied: typing-extensions in c:\\users\\mailm\\anaconda3\\lib\\site-packages (from setuptools-scm->flyingcircus->pytk) (3.10.0.2)\n",
      "Collecting tomli>=1\n",
      "  Downloading tomli-2.0.1-py3-none-any.whl (12 kB)\n",
      "Requirement already satisfied: pyparsing>=2.0.2 in c:\\users\\mailm\\anaconda3\\lib\\site-packages (from packaging>=20->setuptools-scm->flyingcircus->pytk) (3.0.4)\n",
      "Installing collected packages: ansicon, tomli, jinxed, setuptools-scm, blessed, flyingcircus, pytk\n",
      "Successfully installed ansicon-1.89.0 blessed-1.20.0 flyingcircus-0.1.4.1 jinxed-1.2.1 pytk-0.0.2.1 setuptools-scm-8.0.4 tomli-2.0.1\n",
      "Note: you may need to restart the kernel to use updated packages.\n"
     ]
    }
   ],
   "source": [
    "pip install pytk"
   ]
  },
  {
   "cell_type": "code",
   "execution_count": 27,
   "id": "85b5a322",
   "metadata": {},
   "outputs": [],
   "source": [
    "#Shutdow app using python \n",
    "from tkinter import *\n",
    "#import tkinter as tk\n",
    "import os\n",
    "\n",
    "def restart():\n",
    "    os.system(\"shutdown /r /t 1\")\n",
    "\n",
    "def restart_time():\n",
    "    os.system(\"shutdown /r /t 20\")\n",
    "    \n",
    "def logout():\n",
    "    os.system(\"shutdown -l\")\n",
    "\n",
    "def shutdown():\n",
    "    os.system(\"shutdown /s /t 1\")\n",
    "    \n",
    "st=tk.Tk()\n",
    "st.title(\"ShutDown App\")\n",
    "st.geometry(\"500x500\")\n",
    "st.config(bg=\"Blue\")\n",
    "\n",
    "\n",
    "r_button=Button(st,text=\"Restart\",font=(\"Time New Roman\",20, \"bold\"),relief=RAISED,cursor=\"plus\",command=restart)\n",
    "r_button.place(x=150, y=60, height=50, width=200)\n",
    "\n",
    "r_button=Button(st,text=\"Restart Time\",font=(\"Time New Roman\",20, \"bold\"),relief=RAISED,cursor=\"plus\",command=restart_time)\n",
    "r_button.place(x=150, y=170, height=50, width=200)\n",
    "\n",
    "lg_button=Button(st,text=\"Log-Out\",font=(\"Time New Roman\",20, \"bold\"),relief=RAISED,cursor=\"plus\",command=logout)\n",
    "lg_button.place(x=150, y=270, height=50, width=200)\n",
    "\n",
    "st_button=Button(st,text=\"ShutDown\",font=(\"Time New Roman\",20, \"bold\"),relief=RAISED,cursor=\"plus\",command=shutdown)\n",
    "st_button.place(x=150, y=370, height=50, width=200)\n",
    "\n",
    "st.mainloop()"
   ]
  },
  {
   "cell_type": "code",
   "execution_count": 16,
   "id": "cddc0d5e",
   "metadata": {},
   "outputs": [
    {
     "name": "stdout",
     "output_type": "stream",
     "text": [
      "ready to test : yes /no :yes\n",
      "     ******typing speed*******     \n",
      "A paragraph is a self-contained unit of discourse in writing dealing with a perticular point or idea.\n",
      "\n",
      "\n",
      "Type the above string: asdf\n",
      "speed:  3 w/sec\n",
      "Error:  101\n",
      "ready to test : yes /no :yes\n",
      "     ******typing speed*******     \n",
      "my name is test and welcome to the typing test\n",
      "\n",
      "\n",
      "Type the above string: dfasdf\n",
      "speed:  2 w/sec\n",
      "Error:  46\n",
      "ready to test : yes /no :a\n",
      "wrong input\n",
      "ready to test : yes /no :no\n",
      "thank you\n"
     ]
    }
   ],
   "source": [
    "# Typing Speed Calculater\n",
    "from time  import *\n",
    "import random as r\n",
    "\n",
    "if __name__ == '__main__':\n",
    "\n",
    "    def mistake(partest, usertest):\n",
    "        error=0\n",
    "        for i in range(len(partest)):\n",
    "            try:\n",
    "                if partest[i] != usertest[i]:\n",
    "                    error = error +1\n",
    "            except:\n",
    "                error = error +1\n",
    "        return error\n",
    "\n",
    "    def speed_time(time_s, time_e, userinput):\n",
    "        time_delay=time_e - time_s\n",
    "        time_round=round(time_delay, 2)\n",
    "        speed=len(userinput)/time_round\n",
    "        return round(speed)\n",
    "    \n",
    "while True:\n",
    "    ck=input(\"ready to test : yes /no :\")\n",
    "    if ck ==\"yes\":\n",
    "        \n",
    "        test=[\"A paragraph is a self-contained unit of discourse in writing dealing with a perticular point or idea.\",\n",
    "              \"my name is test and welcome to the typing test\"]\n",
    "\n",
    "        test1=r.choice(test)\n",
    "        print (\"     ******typing speed*******     \")\n",
    "        print(test1)\n",
    "        print()\n",
    "        print()\n",
    "\n",
    "        time_1=time()\n",
    "        testinput=input(\"Type the above string: \")\n",
    "        time_2=time()\n",
    "\n",
    "        print('speed: ' ,speed_time(time_1, time_2, testinput), \"w/sec\")\n",
    "        print(\"Error: \", mistake(test1, testinput))\n",
    "        \n",
    "    elif ck ==\"no\":\n",
    "        print (\"thank you\")\n",
    "        break\n",
    "        \n",
    "    else:\n",
    "        print(\"wrong input\")\n",
    "    \n",
    "\n"
   ]
  },
  {
   "cell_type": "code",
   "execution_count": 1,
   "id": "20535a05",
   "metadata": {},
   "outputs": [
    {
     "name": "stderr",
     "output_type": "stream",
     "text": [
      "Exception in Tkinter callback\n",
      "Traceback (most recent call last):\n",
      "  File \"C:\\Users\\mailm\\anaconda3\\lib\\tkinter\\__init__.py\", line 1892, in __call__\n",
      "    return self.func(*args)\n",
      "  File \"C:\\Users\\mailm\\AppData\\Local\\Temp/ipykernel_7200/3890976571.py\", line 8, in speedcheck\n",
      "    sp = speedtest.Speedtest()\n",
      "AttributeError: module 'speedtest' has no attribute 'Speedtest'\n"
     ]
    }
   ],
   "source": [
    "#test the internet speed\n",
    "\n",
    "from tkinter import *\n",
    "import speedtest \n",
    "\n",
    "\n",
    "def speedcheck():\n",
    "    sp = speedtest.Speedtest()\n",
    "    sp.get_servers()\n",
    "    down=str(round(sp.downnload()/(10**6),3))+\" Mbps\"\n",
    "    up=str(round(sp.upload()/(10**6),3))+\" Mbps\"\n",
    "    lab_down.config(text=down)\n",
    "    lab_up.config(text=up)\n",
    "\n",
    "sp=Tk()\n",
    "sp.title(\"Internet Speed Test\")\n",
    "sp.geometry(\"500x600\")\n",
    "sp.config(bg=\"Blue\")\n",
    "\n",
    "lab=Label(sp, text=\"Internet Speed Test\", font=(\"Time New Roman\",30, \"bold\"),bg=\"Blue\", fg=\"White\")\n",
    "lab.place(x=60, y=40, height=50, width=380)\n",
    "\n",
    "lab=Label(sp, text=\"Download Speed\", font=(\"Time New Roman\",30, \"bold\"))\n",
    "lab.place(x=60, y=130, height=50, width=380)\n",
    "\n",
    "lab_down=Label(sp, text=\"00\", font=(\"Time New Roman\",30, \"bold\"))\n",
    "lab_down.place(x=60, y=200, height=50, width=380)\n",
    "\n",
    "lab=Label(sp, text=\"Upload Speed\", font=(\"Time New Roman\",30, \"bold\"))\n",
    "lab.place(x=60, y=290,height=50, width=380)\n",
    "\n",
    "lab_up=Label(sp, text=\"00\", font=(\"Time New Roman\",30, \"bold\"))\n",
    "lab_up.place(x=60, y=360, height=50, width=380)\n",
    "\n",
    "\n",
    "button=Button(sp,text=\"Check Speed\",font=(\"Time New Roman\",20, \"bold\"),relief=RAISED, bg=\"Orange\", command=speedcheck)\n",
    "button.place(x=60, y=460, height=50, width=380)\n",
    "\n",
    "\n",
    "\n",
    "sp.mainloop()"
   ]
  },
  {
   "cell_type": "code",
   "execution_count": null,
   "id": "75a059b5",
   "metadata": {},
   "outputs": [],
   "source": [
    "pip install speedtest-cli\n"
   ]
  },
  {
   "cell_type": "code",
   "execution_count": 4,
   "id": "928aa9ea",
   "metadata": {},
   "outputs": [
    {
     "name": "stdout",
     "output_type": "stream",
     "text": [
      "Requirement already satisfied: speedtest-cli in c:\\users\\mailm\\anaconda3\\lib\\site-packages (2.1.3)\n",
      "Note: you may need to restart the kernel to use updated packages.\n"
     ]
    }
   ],
   "source": [
    "pip install --upgrade speedtest-cli"
   ]
  },
  {
   "cell_type": "code",
   "execution_count": 4,
   "id": "72c70562",
   "metadata": {},
   "outputs": [
    {
     "name": "stdout",
     "output_type": "stream",
     "text": [
      "Collecting pywhatkit\n",
      "  Downloading pywhatkit-5.4-py3-none-any.whl (15 kB)\n",
      "Collecting pyautogui\n",
      "  Downloading PyAutoGUI-0.9.54.tar.gz (61 kB)\n",
      "  Installing build dependencies: started\n",
      "  Installing build dependencies: finished with status 'done'\n",
      "  Getting requirements to build wheel: started\n",
      "  Getting requirements to build wheel: finished with status 'done'\n",
      "    Preparing wheel metadata: started\n",
      "    Preparing wheel metadata: finished with status 'done'\n",
      "Requirement already satisfied: Pillow in c:\\users\\mailm\\anaconda3\\lib\\site-packages (from pywhatkit) (8.4.0)\n",
      "Collecting wikipedia\n",
      "  Downloading wikipedia-1.4.0.tar.gz (27 kB)\n",
      "Requirement already satisfied: Flask in c:\\users\\mailm\\anaconda3\\lib\\site-packages (from pywhatkit) (1.1.2)\n",
      "Requirement already satisfied: requests in c:\\users\\mailm\\anaconda3\\lib\\site-packages (from pywhatkit) (2.26.0)\n",
      "Requirement already satisfied: Jinja2>=2.10.1 in c:\\users\\mailm\\anaconda3\\lib\\site-packages (from Flask->pywhatkit) (2.11.3)\n",
      "Requirement already satisfied: Werkzeug>=0.15 in c:\\users\\mailm\\anaconda3\\lib\\site-packages (from Flask->pywhatkit) (2.0.2)\n",
      "Requirement already satisfied: click>=5.1 in c:\\users\\mailm\\anaconda3\\lib\\site-packages (from Flask->pywhatkit) (8.0.3)\n",
      "Requirement already satisfied: itsdangerous>=0.24 in c:\\users\\mailm\\anaconda3\\lib\\site-packages (from Flask->pywhatkit) (2.0.1)\n",
      "Requirement already satisfied: colorama in c:\\users\\mailm\\anaconda3\\lib\\site-packages (from click>=5.1->Flask->pywhatkit) (0.4.4)\n",
      "Requirement already satisfied: MarkupSafe>=0.23 in c:\\users\\mailm\\anaconda3\\lib\\site-packages (from Jinja2>=2.10.1->Flask->pywhatkit) (1.1.1)\n",
      "Collecting pyscreeze>=0.1.21\n",
      "  Downloading PyScreeze-0.1.30.tar.gz (27 kB)\n",
      "  Installing build dependencies: started\n",
      "  Installing build dependencies: finished with status 'done'\n",
      "  Getting requirements to build wheel: started\n",
      "  Getting requirements to build wheel: finished with status 'done'\n",
      "    Preparing wheel metadata: started\n",
      "    Preparing wheel metadata: finished with status 'done'\n",
      "Collecting pygetwindow>=0.0.5\n",
      "  Downloading PyGetWindow-0.0.9.tar.gz (9.7 kB)\n",
      "Collecting pymsgbox\n",
      "  Downloading PyMsgBox-1.0.9.tar.gz (18 kB)\n",
      "  Installing build dependencies: started\n",
      "  Installing build dependencies: finished with status 'done'\n",
      "  Getting requirements to build wheel: started\n",
      "  Getting requirements to build wheel: finished with status 'done'\n",
      "    Preparing wheel metadata: started\n",
      "    Preparing wheel metadata: finished with status 'done'\n",
      "Collecting mouseinfo\n",
      "  Downloading MouseInfo-0.1.3.tar.gz (10 kB)\n",
      "Collecting pytweening>=1.0.4\n",
      "  Downloading pytweening-1.2.0.tar.gz (171 kB)\n",
      "Collecting pyrect\n",
      "  Downloading PyRect-0.2.0.tar.gz (17 kB)\n",
      "Collecting Pillow\n",
      "  Downloading pillow-10.3.0-cp39-cp39-win_amd64.whl (2.5 MB)\n",
      "Collecting pyperclip\n",
      "  Downloading pyperclip-1.8.2.tar.gz (20 kB)\n",
      "Requirement already satisfied: urllib3<1.27,>=1.21.1 in c:\\users\\mailm\\anaconda3\\lib\\site-packages (from requests->pywhatkit) (1.26.7)\n",
      "Note: you may need to restart the kernel to use updated packages.Requirement already satisfied: certifi>=2017.4.17 in c:\\users\\mailm\\anaconda3\\lib\\site-packages (from requests->pywhatkit) (2021.10.8)\n",
      "Requirement already satisfied: charset-normalizer~=2.0.0 in c:\\users\\mailm\\anaconda3\\lib\\site-packages (from requests->pywhatkit) (2.0.4)\n",
      "Requirement already satisfied: idna<4,>=2.5 in c:\\users\\mailm\\anaconda3\\lib\\site-packages (from requests->pywhatkit) (3.2)\n",
      "Requirement already satisfied: beautifulsoup4 in c:\\users\\mailm\\anaconda3\\lib\\site-packages (from wikipedia->pywhatkit) (4.10.0)\n",
      "\n",
      "Requirement already satisfied: soupsieve>1.2 in c:\\users\\mailm\\anaconda3\\lib\\site-packages (from beautifulsoup4->wikipedia->pywhatkit) (2.2.1)\n",
      "Building wheels for collected packages: pyautogui, pygetwindow, pyscreeze, pytweening, mouseinfo, pymsgbox, pyperclip, pyrect, wikipedia\n",
      "  Building wheel for pyautogui (PEP 517): started\n",
      "  Building wheel for pyautogui (PEP 517): finished with status 'done'\n",
      "  Created wheel for pyautogui: filename=PyAutoGUI-0.9.54-py3-none-any.whl size=37596 sha256=8563dc50716506070025bee384fe55588105f9c27b19ec6a85e1b0ce9e7206b2\n",
      "  Stored in directory: c:\\users\\mailm\\appdata\\local\\pip\\cache\\wheels\\29\\2b\\5f\\9df8525a15d14d1a3ba04fe66e5bd3d2dc8ca7f5fb2ab2ec50\n",
      "  Building wheel for pygetwindow (setup.py): started\n",
      "  Building wheel for pygetwindow (setup.py): finished with status 'done'\n",
      "  Created wheel for pygetwindow: filename=PyGetWindow-0.0.9-py3-none-any.whl size=11080 sha256=9af281a77214d8fbea72345f20173975b3fa5795d8e507ff78364ec4a1f77226\n",
      "  Stored in directory: c:\\users\\mailm\\appdata\\local\\pip\\cache\\wheels\\44\\ab\\20\\423c3a444793767e4e41f8377bc902f77bee212e68dcce85a5\n",
      "  Building wheel for pyscreeze (PEP 517): started\n",
      "  Building wheel for pyscreeze (PEP 517): finished with status 'done'\n",
      "  Created wheel for pyscreeze: filename=PyScreeze-0.1.30-py3-none-any.whl size=14401 sha256=f67bcedb8fc27de026fb19ce6c48e5b1249317819cac083b4719adc63cd51adf\n",
      "  Stored in directory: c:\\users\\mailm\\appdata\\local\\pip\\cache\\wheels\\57\\ef\\26\\25869f8f3fbfc108d6d5a50f57184291825caedc8ab1eaa1d6\n",
      "  Building wheel for pytweening (setup.py): started\n",
      "  Building wheel for pytweening (setup.py): finished with status 'done'\n",
      "  Created wheel for pytweening: filename=pytweening-1.2.0-py3-none-any.whl size=8026 sha256=4e2945ff0ccbacebae41da26e263b07a4395b0a328b9247c12396342f510750b\n",
      "  Stored in directory: c:\\users\\mailm\\appdata\\local\\pip\\cache\\wheels\\eb\\48\\3d\\ded50b5e7d57738e4bd3ee314e537f4f646328aeaef51d2619\n",
      "  Building wheel for mouseinfo (setup.py): started\n",
      "  Building wheel for mouseinfo (setup.py): finished with status 'done'\n",
      "  Created wheel for mouseinfo: filename=MouseInfo-0.1.3-py3-none-any.whl size=10906 sha256=554f145621ed2ab239a36b65d556aa14269f4aa31de9de5afa4f294ff3d6eb2f\n",
      "  Stored in directory: c:\\users\\mailm\\appdata\\local\\pip\\cache\\wheels\\61\\73\\b9\\6fb1131ab36e650206e3aa0ad7a68907b41b32ac2d4f75f543\n",
      "  Building wheel for pymsgbox (PEP 517): started\n",
      "  Building wheel for pymsgbox (PEP 517): finished with status 'done'\n",
      "  Created wheel for pymsgbox: filename=PyMsgBox-1.0.9-py3-none-any.whl size=7417 sha256=372a79fdce44acdd2b2a8f96a2bd311b724b7fd91a14b56aa3d2c1bc4db95764\n",
      "  Stored in directory: c:\\users\\mailm\\appdata\\local\\pip\\cache\\wheels\\7f\\13\\8c\\584c519464297d9637f9cd29fd1dcdf55e2a2cab225c76a2db\n",
      "  Building wheel for pyperclip (setup.py): started\n",
      "  Building wheel for pyperclip (setup.py): finished with status 'done'\n",
      "  Created wheel for pyperclip: filename=pyperclip-1.8.2-py3-none-any.whl size=11136 sha256=5a077eb96af935182cff40d225a650660e351c390e735480403af6fe37ff1cee\n",
      "  Stored in directory: c:\\users\\mailm\\appdata\\local\\pip\\cache\\wheels\\0c\\09\\9e\\49e21a6840ef7955b06d47394afef0058f0378c0914e48b8b8\n",
      "  Building wheel for pyrect (setup.py): started\n",
      "  Building wheel for pyrect (setup.py): finished with status 'done'\n",
      "  Created wheel for pyrect: filename=PyRect-0.2.0-py2.py3-none-any.whl size=11195 sha256=4d039b66b7ba52734726ecbc0c8aa045bda023736c7194b1786cc165c10813cf\n",
      "  Stored in directory: c:\\users\\mailm\\appdata\\local\\pip\\cache\\wheels\\25\\80\\fa\\27bb4a1c2e21f64ec71390489d52e57b7cc8afbe79bd595c5e\n",
      "  Building wheel for wikipedia (setup.py): started\n",
      "  Building wheel for wikipedia (setup.py): finished with status 'done'\n",
      "  Created wheel for wikipedia: filename=wikipedia-1.4.0-py3-none-any.whl size=11696 sha256=afe0e15d6644e3d3e3ea6cc142fe1bc3f20ac4a012d0cb1bd124dcbf6938c8df\n",
      "  Stored in directory: c:\\users\\mailm\\appdata\\local\\pip\\cache\\wheels\\c2\\46\\f4\\caa1bee71096d7b0cdca2f2a2af45cacf35c5760bee8f00948\n",
      "Successfully built pyautogui pygetwindow pyscreeze pytweening mouseinfo pymsgbox pyperclip pyrect wikipedia\n",
      "Installing collected packages: pyrect, pyperclip, Pillow, pytweening, pyscreeze, pymsgbox, pygetwindow, mouseinfo, wikipedia, pyautogui, pywhatkit\n",
      "  Attempting uninstall: Pillow\n",
      "    Found existing installation: Pillow 8.4.0\n",
      "    Uninstalling Pillow-8.4.0:\n",
      "      Successfully uninstalled Pillow-8.4.0\n",
      "Successfully installed Pillow-10.3.0 mouseinfo-0.1.3 pyautogui-0.9.54 pygetwindow-0.0.9 pymsgbox-1.0.9 pyperclip-1.8.2 pyrect-0.2.0 pyscreeze-0.1.30 pytweening-1.2.0 pywhatkit-5.4 wikipedia-1.4.0\n"
     ]
    }
   ],
   "source": [
    "pip install pywhatkit"
   ]
  },
  {
   "cell_type": "code",
   "execution_count": 4,
   "id": "98669930",
   "metadata": {},
   "outputs": [
    {
     "name": "stdout",
     "output_type": "stream",
     "text": [
      "end\n"
     ]
    }
   ],
   "source": [
    "#Text to Handwriting \n",
    "\n",
    "import pywhatkit as pw\n",
    "\n",
    "txt=\"A paragraph is a self-contained unit of discourse in writing dealing with a perticular point or idea.\"\n",
    "\n",
    "pw.text_to_handwriting(txt, \"demo.jpg\", [255,0,0])\n",
    "print(\"end\")"
   ]
  },
  {
   "cell_type": "code",
   "execution_count": 2,
   "id": "801bb41f",
   "metadata": {},
   "outputs": [
    {
     "name": "stdout",
     "output_type": "stream",
     "text": [
      "Collecting pywhatkit==4.6\n",
      "  Downloading pywhatkit-4.6-py3-none-any.whl (10 kB)\n",
      "Requirement already satisfied: pyautogui in c:\\users\\mailm\\anaconda3\\lib\\site-packages (from pywhatkit==4.6) (0.9.54)\n",
      "Requirement already satisfied: Pillow in c:\\users\\mailm\\anaconda3\\lib\\site-packages (from pywhatkit==4.6) (10.3.0)\n",
      "Requirement already satisfied: wikipedia in c:\\users\\mailm\\anaconda3\\lib\\site-packages (from pywhatkit==4.6) (1.4.0)\n",
      "Requirement already satisfied: requests in c:\\users\\mailm\\anaconda3\\lib\\site-packages (from pywhatkit==4.6) (2.26.0)\n",
      "Requirement already satisfied: pymsgbox in c:\\users\\mailm\\anaconda3\\lib\\site-packages (from pyautogui->pywhatkit==4.6) (1.0.9)\n",
      "Requirement already satisfied: mouseinfo in c:\\users\\mailm\\anaconda3\\lib\\site-packages (from pyautogui->pywhatkit==4.6) (0.1.3)\n",
      "Requirement already satisfied: pygetwindow>=0.0.5 in c:\\users\\mailm\\anaconda3\\lib\\site-packages (from pyautogui->pywhatkit==4.6) (0.0.9)\n",
      "Requirement already satisfied: pytweening>=1.0.4 in c:\\users\\mailm\\anaconda3\\lib\\site-packages (from pyautogui->pywhatkit==4.6) (1.2.0)\n",
      "Requirement already satisfied: pyscreeze>=0.1.21 in c:\\users\\mailm\\anaconda3\\lib\\site-packages (from pyautogui->pywhatkit==4.6) (0.1.30)\n",
      "Requirement already satisfied: pyrect in c:\\users\\mailm\\anaconda3\\lib\\site-packages (from pygetwindow>=0.0.5->pyautogui->pywhatkit==4.6) (0.2.0)\n",
      "Requirement already satisfied: pyperclip in c:\\users\\mailm\\anaconda3\\lib\\site-packages (from mouseinfo->pyautogui->pywhatkit==4.6) (1.8.2)\n",
      "Requirement already satisfied: urllib3<1.27,>=1.21.1 in c:\\users\\mailm\\anaconda3\\lib\\site-packages (from requests->pywhatkit==4.6) (1.26.7)\n",
      "Requirement already satisfied: idna<4,>=2.5 in c:\\users\\mailm\\anaconda3\\lib\\site-packages (from requests->pywhatkit==4.6) (3.2)\n",
      "Requirement already satisfied: charset-normalizer~=2.0.0 in c:\\users\\mailm\\anaconda3\\lib\\site-packages (from requests->pywhatkit==4.6) (2.0.4)\n",
      "Requirement already satisfied: certifi>=2017.4.17 in c:\\users\\mailm\\anaconda3\\lib\\site-packages (from requests->pywhatkit==4.6) (2021.10.8)\n",
      "Requirement already satisfied: beautifulsoup4 in c:\\users\\mailm\\anaconda3\\lib\\site-packages (from wikipedia->pywhatkit==4.6) (4.10.0)\n",
      "Requirement already satisfied: soupsieve>1.2 in c:\\users\\mailm\\anaconda3\\lib\\site-packages (from beautifulsoup4->wikipedia->pywhatkit==4.6) (2.2.1)\n",
      "Installing collected packages: pywhatkit\n",
      "  Attempting uninstall: pywhatkit\n",
      "    Found existing installation: pywhatkit 5.4\n",
      "    Uninstalling pywhatkit-5.4:\n",
      "      Successfully uninstalled pywhatkit-5.4\n",
      "Successfully installed pywhatkit-4.6\n",
      "Note: you may need to restart the kernel to use updated packages.\n"
     ]
    }
   ],
   "source": [
    "pip install pywhatkit==4.6\n"
   ]
  },
  {
   "cell_type": "code",
   "execution_count": null,
   "id": "4259ce3e",
   "metadata": {},
   "outputs": [],
   "source": []
  }
 ],
 "metadata": {
  "kernelspec": {
   "display_name": "Python 3 (ipykernel)",
   "language": "python",
   "name": "python3"
  },
  "language_info": {
   "codemirror_mode": {
    "name": "ipython",
    "version": 3
   },
   "file_extension": ".py",
   "mimetype": "text/x-python",
   "name": "python",
   "nbconvert_exporter": "python",
   "pygments_lexer": "ipython3",
   "version": "3.9.7"
  }
 },
 "nbformat": 4,
 "nbformat_minor": 5
}
